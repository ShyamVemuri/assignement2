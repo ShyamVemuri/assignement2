{
 "cells": [
  {
   "cell_type": "markdown",
   "id": "6addb8e0",
   "metadata": {},
   "source": [
    "# 1.What are the two values of the Boolean data type? How do you write them?"
   ]
  },
  {
   "cell_type": "markdown",
   "id": "cc549744",
   "metadata": {},
   "source": [
    "Boolean data type contains two values, they are True and False"
   ]
  },
  {
   "cell_type": "markdown",
   "id": "c6f0dac0",
   "metadata": {},
   "source": [
    "# 2.What are the three different types of Boolean operators?"
   ]
  },
  {
   "cell_type": "markdown",
   "id": "b528c2ba",
   "metadata": {},
   "source": [
    "Three different types of Boolean operators are AND, OR and NOT"
   ]
  },
  {
   "cell_type": "markdown",
   "id": "5bfc3a70",
   "metadata": {},
   "source": [
    "# 3. Make a list of each Boolean operator's truth tables (i.e. every possible combination of Boolean values for the operator and what it evaluate )."
   ]
  },
  {
   "cell_type": "markdown",
   "id": "306fe8a0",
   "metadata": {},
   "source": [
    "    AND Operator :  True and TRUE evaluates to True\n",
    "                True and False evaluates to False\n",
    "                False and True evaluates to False\n",
    "                False and False evaluates to False\n",
    "    OR Operator :   True or TRUE evaluates to True\n",
    "                True or False evaluates to True\n",
    "                False or True evaluates to True\n",
    "                False or False evaluates to False\n",
    "    NOT Operator :  not TRUE evaluates to False\n",
    "                not False evaluates to True"
   ]
  },
  {
   "cell_type": "markdown",
   "id": "ff5ea9dd",
   "metadata": {},
   "source": [
    "# 4. What are the values of the following expressions?"
   ]
  },
  {
   "cell_type": "markdown",
   "id": "f369c5d9",
   "metadata": {},
   "source": [
    "    (5 > 4) and (3 == 5) --> True and False --> False \n",
    "    not (5 > 4) --> not True --> False \n",
    "    (5 > 4) or (3 == 5) --> True or False --> True \n",
    "    not ((5 > 4) or (3 == 5)) --> not (True or False) --> not(True) --> False \n",
    "    (True and True) and (True == False) --> True and False --> False \n",
    "    (not False) or (not True) --> True or False --> True "
   ]
  },
  {
   "cell_type": "markdown",
   "id": "a166b17f",
   "metadata": {},
   "source": [
    "# 5. What are the six comparison operators?"
   ]
  },
  {
   "cell_type": "markdown",
   "id": "efabc1ba",
   "metadata": {},
   "source": [
    "    six comparison operators of python are\n",
    "        Less than ( < )\n",
    "        Less than or equal to (<=)\n",
    "        Greater than (>)\n",
    "        Greater than or equal to (>=)\n",
    "        Equal to ( == )\n",
    "        Not equal to ( != )"
   ]
  },
  {
   "cell_type": "markdown",
   "id": "a6963d59",
   "metadata": {},
   "source": [
    "# 6. How do you tell the difference between the equal to and assignment operators?Describe a condition and when you would use one."
   ]
  },
  {
   "cell_type": "markdown",
   "id": "c2ba0f1f",
   "metadata": {},
   "source": [
    "    equal to (==) operator checks whether 2 statement or conditions correct or not. It returns True if it is correct, returns False if it is not correct.\n",
    "    Assignment operator (=) is used to assign the value to some variable\n",
    "    ex: x=20 --> Here value 20 is assigned to variable x\n",
    "    x==20 --> Here it checks the value of x variable and compares with 20. If x value is 20 , then 20==20 --> returns True "
   ]
  },
  {
   "cell_type": "markdown",
   "id": "4e564341",
   "metadata": {},
   "source": [
    "# 7. Identify the three blocks in this code:"
   ]
  },
  {
   "cell_type": "code",
   "execution_count": 3,
   "id": "f3f69549",
   "metadata": {},
   "outputs": [
    {
     "name": "stdout",
     "output_type": "stream",
     "text": [
      "ham\n",
      "spam\n",
      "spam\n"
     ]
    }
   ],
   "source": [
    "spam = 0\n",
    "if spam == 10:\n",
    "    print('eggs')\n",
    "if spam > 5:\n",
    "    print('bacon')\n",
    "else:\n",
    "    print('ham')\n",
    "print('spam')\n",
    "print('spam')"
   ]
  },
  {
   "cell_type": "markdown",
   "id": "e8f3d63f",
   "metadata": {},
   "source": [
    "# 8. Write code that prints Hello if 1 is stored in spam, prints Howdy if 2 is stored in spam, and prints Greetings! if anything else is stored in spam"
   ]
  },
  {
   "cell_type": "code",
   "execution_count": 8,
   "id": "13eeb071",
   "metadata": {},
   "outputs": [
    {
     "name": "stdout",
     "output_type": "stream",
     "text": [
      "Hello\n"
     ]
    }
   ],
   "source": [
    "spam = 1\n",
    "if spam == 1:\n",
    "    print('Hello')\n",
    "elif spam == 2 :\n",
    "    print('Howdy')\n",
    "else:\n",
    "    print('Greetings!')"
   ]
  },
  {
   "cell_type": "markdown",
   "id": "0d2a8b2e",
   "metadata": {},
   "source": [
    "# 9.If your programme is stuck in an endless loop, what keys you’ll press?"
   ]
  },
  {
   "cell_type": "markdown",
   "id": "50c6c4e8",
   "metadata": {},
   "source": [
    "ctrl+C"
   ]
  },
  {
   "cell_type": "markdown",
   "id": "61f0f689",
   "metadata": {},
   "source": [
    "# 10. How can you tell the difference between break and continue?"
   ]
  },
  {
   "cell_type": "markdown",
   "id": "7e253e0f",
   "metadata": {},
   "source": [
    "The main difference between both the statements is that when break keyword comes, it terminates the execution of the current loop and passes the control over the next loop or main body, whereas when continue keyword is encountered, it skips the current iteration and executes the very next iteration in the loop"
   ]
  },
  {
   "cell_type": "markdown",
   "id": "55541f0a",
   "metadata": {},
   "source": [
    "# 11. In a for loop, what is the difference between range(10), range(0, 10), and range(0, 10, 1)?"
   ]
  },
  {
   "cell_type": "markdown",
   "id": "9418af33",
   "metadata": {},
   "source": [
    "all are same. all 3 prints 0,1,2,3,4,5,6,7,8,9"
   ]
  },
  {
   "cell_type": "markdown",
   "id": "6872bfac",
   "metadata": {},
   "source": [
    "# 12. Write a short program that prints the numbers 1 to 10 using a for loop. Then write an equivalent program that prints the numbers 1 to 10 using a while loop"
   ]
  },
  {
   "cell_type": "code",
   "execution_count": 13,
   "id": "c8e182b3",
   "metadata": {},
   "outputs": [
    {
     "name": "stdout",
     "output_type": "stream",
     "text": [
      "1\n",
      "2\n",
      "3\n",
      "4\n",
      "5\n",
      "6\n",
      "7\n",
      "8\n",
      "9\n",
      "10\n"
     ]
    }
   ],
   "source": [
    "# Generate numbers between 1 to 10 using for loop\n",
    "for i in range(1,11):\n",
    "    print(i)"
   ]
  },
  {
   "cell_type": "code",
   "execution_count": 14,
   "id": "4dcae999",
   "metadata": {},
   "outputs": [
    {
     "name": "stdout",
     "output_type": "stream",
     "text": [
      "1\n",
      "2\n",
      "3\n",
      "4\n",
      "5\n",
      "6\n",
      "7\n",
      "8\n",
      "9\n",
      "10\n"
     ]
    }
   ],
   "source": [
    "# Generate numbers between 1 to 10 using while loop\n",
    "i = 1\n",
    "while(i<=10):\n",
    "    print(i)\n",
    "    i += 1"
   ]
  },
  {
   "cell_type": "markdown",
   "id": "9a8febc9",
   "metadata": {},
   "source": [
    "# 13. If you had a function named bacon() inside a module named spam, how would you call it after importing spam?"
   ]
  },
  {
   "cell_type": "markdown",
   "id": "044cac70",
   "metadata": {},
   "source": [
    "spam.becon()"
   ]
  }
 ],
 "metadata": {
  "kernelspec": {
   "display_name": "Python 3 (ipykernel)",
   "language": "python",
   "name": "python3"
  },
  "language_info": {
   "codemirror_mode": {
    "name": "ipython",
    "version": 3
   },
   "file_extension": ".py",
   "mimetype": "text/x-python",
   "name": "python",
   "nbconvert_exporter": "python",
   "pygments_lexer": "ipython3",
   "version": "3.9.7"
  }
 },
 "nbformat": 4,
 "nbformat_minor": 5
}
